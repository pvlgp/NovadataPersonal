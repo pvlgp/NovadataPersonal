{
 "cells": [
  {
   "metadata": {},
   "cell_type": "markdown",
   "source": "# SPARK",
   "id": "a1d53e9ffacb12ec"
  },
  {
   "cell_type": "code",
   "id": "initial_id",
   "metadata": {
    "collapsed": true,
    "ExecuteTime": {
     "end_time": "2025-08-12T16:17:37.783765Z",
     "start_time": "2025-08-12T16:17:37.773089Z"
    }
   },
   "source": [
    "from pyspark.sql import SparkSession\n",
    "from pyspark.sql.types import *\n",
    "from pyspark.sql import functions as F\n",
    "# from pyspark.sql.window import Window as W"
   ],
   "outputs": [],
   "execution_count": 323
  },
  {
   "metadata": {
    "ExecuteTime": {
     "end_time": "2025-08-12T16:17:37.795482Z",
     "start_time": "2025-08-12T16:17:37.791441Z"
    }
   },
   "cell_type": "code",
   "source": [
    "def to_snake(name: str) -> str:\n",
    "    \"\"\"Функция для очистки строк от лишних пробелов и приведения к единому регистру. Применяется для обработки заголовка в DataFrame\"\"\"\n",
    "    return name.strip().lower().replace(\" \", \"_\")"
   ],
   "id": "2ff5955a18e1eaa5",
   "outputs": [],
   "execution_count": 324
  },
  {
   "metadata": {
    "ExecuteTime": {
     "end_time": "2025-08-12T16:17:37.809488Z",
     "start_time": "2025-08-12T16:17:37.799574Z"
    }
   },
   "cell_type": "code",
   "source": [
    "# Создание Spark сессии\n",
    "spark = SparkSession.builder \\\n",
    "    .appName(\"Example\") \\\n",
    "    .getOrCreate()"
   ],
   "id": "d81e36fa3ba97746",
   "outputs": [],
   "execution_count": 325
  },
  {
   "metadata": {},
   "cell_type": "markdown",
   "source": "## 1. Загрузка и предварительная обработка данных",
   "id": "8d0695258cc14110"
  },
  {
   "metadata": {},
   "cell_type": "markdown",
   "source": "1.1. Загрузка и вывод схемы",
   "id": "72e43bca69bbf082"
  },
  {
   "metadata": {
    "ExecuteTime": {
     "end_time": "2025-08-12T16:17:37.815590Z",
     "start_time": "2025-08-12T16:17:37.812852Z"
    }
   },
   "cell_type": "code",
   "source": "data_path = \"retail_store_sales.csv\"",
   "id": "bb7175759f880cfd",
   "outputs": [],
   "execution_count": 326
  },
  {
   "metadata": {
    "ExecuteTime": {
     "end_time": "2025-08-12T16:17:37.960795Z",
     "start_time": "2025-08-12T16:17:37.818468Z"
    }
   },
   "cell_type": "code",
   "source": "df_retail = spark.read.csv(data_path, header=True, inferSchema=True)",
   "id": "7e3d96054ee99e29",
   "outputs": [],
   "execution_count": 327
  },
  {
   "metadata": {
    "ExecuteTime": {
     "end_time": "2025-08-12T16:17:37.981659Z",
     "start_time": "2025-08-12T16:17:37.977337Z"
    }
   },
   "cell_type": "code",
   "source": "df_retail.printSchema()",
   "id": "17a0832636426a4f",
   "outputs": [
    {
     "name": "stdout",
     "output_type": "stream",
     "text": [
      "root\n",
      " |-- Transaction ID: string (nullable = true)\n",
      " |-- Customer ID: string (nullable = true)\n",
      " |-- Category: string (nullable = true)\n",
      " |-- Item: string (nullable = true)\n",
      " |-- Price Per Unit: double (nullable = true)\n",
      " |-- Quantity: double (nullable = true)\n",
      " |-- Total Spent: double (nullable = true)\n",
      " |-- Payment Method: string (nullable = true)\n",
      " |-- Location: string (nullable = true)\n",
      " |-- Transaction Date: date (nullable = true)\n",
      " |-- Discount Applied: boolean (nullable = true)\n",
      "\n"
     ]
    }
   ],
   "execution_count": 328
  },
  {
   "metadata": {},
   "cell_type": "markdown",
   "source": "1.2. Очистка названий столбцов",
   "id": "a7bc0d858fd09dd1"
  },
  {
   "metadata": {
    "ExecuteTime": {
     "end_time": "2025-08-12T16:17:38.010690Z",
     "start_time": "2025-08-12T16:17:37.997959Z"
    }
   },
   "cell_type": "code",
   "source": [
    "for old_name in df_retail.columns:\n",
    "    df_retail = df_retail.withColumnRenamed(old_name, to_snake(old_name))"
   ],
   "id": "23d90cd8d3ad98c4",
   "outputs": [],
   "execution_count": 329
  },
  {
   "metadata": {
    "ExecuteTime": {
     "end_time": "2025-08-12T16:17:38.017538Z",
     "start_time": "2025-08-12T16:17:38.014646Z"
    }
   },
   "cell_type": "code",
   "source": "df_retail.printSchema()",
   "id": "71c47e1ea97b8af9",
   "outputs": [
    {
     "name": "stdout",
     "output_type": "stream",
     "text": [
      "root\n",
      " |-- transaction_id: string (nullable = true)\n",
      " |-- customer_id: string (nullable = true)\n",
      " |-- category: string (nullable = true)\n",
      " |-- item: string (nullable = true)\n",
      " |-- price_per_unit: double (nullable = true)\n",
      " |-- quantity: double (nullable = true)\n",
      " |-- total_spent: double (nullable = true)\n",
      " |-- payment_method: string (nullable = true)\n",
      " |-- location: string (nullable = true)\n",
      " |-- transaction_date: date (nullable = true)\n",
      " |-- discount_applied: boolean (nullable = true)\n",
      "\n"
     ]
    }
   ],
   "execution_count": 330
  },
  {
   "metadata": {},
   "cell_type": "markdown",
   "source": "1.3. Преобразование типов данных",
   "id": "f9aa1a60828a6b4c"
  },
  {
   "metadata": {
    "ExecuteTime": {
     "end_time": "2025-08-12T16:17:38.103644Z",
     "start_time": "2025-08-12T16:17:38.037224Z"
    }
   },
   "cell_type": "code",
   "source": [
    "df_retail = (\n",
    "    df_retail.withColumn(\"transaction_id\", F.col(\"transaction_id\").cast(StringType()))\n",
    "    .withColumn(\"customer_id\", F.col(\"customer_id\").cast(StringType()))\n",
    "    .withColumn(\"category\", F.col(\"category\").cast(StringType()))\n",
    "    .withColumn(\"item\", F.col(\"item\").cast(StringType()))\n",
    "    .withColumn(\"price_per_unit\", F.col(\"price_per_unit\").cast(DoubleType()))\n",
    "    .withColumn(\"quantity\", F.col(\"quantity\").cast(IntegerType()))\n",
    "    .withColumn(\"total_spent\", F.col(\"total_spent\").cast(DoubleType()))\n",
    "    .withColumn(\"payment_method\", F.col(\"payment_method\").cast(StringType()))\n",
    "    .withColumn(\"location\", F.col(\"location\").cast(StringType()))\n",
    "    .withColumn(\"transaction_date\", F.col(\"transaction_date\").cast(DateType()))\n",
    "    .withColumn(\"discount_applied\", F.col(\"discount_applied\").cast(BooleanType()))\n",
    ")\n",
    "\n",
    "df_retail.printSchema()"
   ],
   "id": "447f6f2691300417",
   "outputs": [
    {
     "name": "stdout",
     "output_type": "stream",
     "text": [
      "root\n",
      " |-- transaction_id: string (nullable = true)\n",
      " |-- customer_id: string (nullable = true)\n",
      " |-- category: string (nullable = true)\n",
      " |-- item: string (nullable = true)\n",
      " |-- price_per_unit: double (nullable = true)\n",
      " |-- quantity: integer (nullable = true)\n",
      " |-- total_spent: double (nullable = true)\n",
      " |-- payment_method: string (nullable = true)\n",
      " |-- location: string (nullable = true)\n",
      " |-- transaction_date: date (nullable = true)\n",
      " |-- discount_applied: boolean (nullable = true)\n",
      "\n"
     ]
    }
   ],
   "execution_count": 331
  },
  {
   "metadata": {},
   "cell_type": "markdown",
   "source": "## 2. Очистка и валидация данных",
   "id": "c19dcff05618463c"
  },
  {
   "metadata": {},
   "cell_type": "markdown",
   "source": "2.1. Восстановление отсутствующих 'item'",
   "id": "c790305d67b4880c"
  },
  {
   "metadata": {
    "ExecuteTime": {
     "end_time": "2025-08-12T16:17:38.131420Z",
     "start_time": "2025-08-12T16:17:38.114638Z"
    }
   },
   "cell_type": "code",
   "source": [
    "df_product_directory = df_retail.select(\n",
    "    F.col(\"category\").alias(\"category_ref\"),\n",
    "    F.col(\"item\").alias(\"item_ref\"),\n",
    "    F.col(\"price_per_unit\").alias(\"price_per_unit_ref\")\n",
    ").dropna(subset=[\"category_ref\", \"item_ref\"]).distinct()\n",
    "\n",
    "df_product_directory.printSchema()"
   ],
   "id": "c24f51a5430b7e8e",
   "outputs": [
    {
     "name": "stdout",
     "output_type": "stream",
     "text": [
      "root\n",
      " |-- category_ref: string (nullable = true)\n",
      " |-- item_ref: string (nullable = true)\n",
      " |-- price_per_unit_ref: double (nullable = true)\n",
      "\n"
     ]
    }
   ],
   "execution_count": 332
  },
  {
   "metadata": {
    "ExecuteTime": {
     "end_time": "2025-08-12T16:17:38.161541Z",
     "start_time": "2025-08-12T16:17:38.141564Z"
    }
   },
   "cell_type": "code",
   "source": [
    "df_retail = (\n",
    "    df_retail.join(df_product_directory, (df_retail.category == df_product_directory.category_ref) & (df_retail.price_per_unit == df_product_directory.price_per_unit_ref), \"inner\")\n",
    "    .withColumn(\"item\", F.when(F.col(\"item\").isNull(), F.col(\"item_ref\")).otherwise(F.col(\"item\")))\n",
    "    .drop(\"category_ref\", \"item_ref\", \"price_per_unit_ref\")\n",
    ")"
   ],
   "id": "98a614b21fe60750",
   "outputs": [],
   "execution_count": 333
  },
  {
   "metadata": {},
   "cell_type": "markdown",
   "source": "2.2. Восстановление 'total_spent'",
   "id": "203949dc34b42f5e"
  },
  {
   "metadata": {
    "ExecuteTime": {
     "end_time": "2025-08-12T16:17:38.183688Z",
     "start_time": "2025-08-12T16:17:38.164182Z"
    }
   },
   "cell_type": "code",
   "source": [
    "df_retail = (\n",
    "    df_retail.withColumn(\n",
    "        \"total_spent\", F.when(\n",
    "            F.col(\"total_spent\").isNull() & F.col(\"quantity\").isNotNull() & F.col(\"price_per_unit\").isNotNull(),\n",
    "            F.col(\"quantity\") * F.col(\"price_per_unit\")\n",
    "        ).otherwise(\n",
    "            F.col(\"total_spent\")\n",
    "        )\n",
    "    )\n",
    ")"
   ],
   "id": "7a6fd669fb0e97d0",
   "outputs": [],
   "execution_count": 334
  },
  {
   "metadata": {},
   "cell_type": "markdown",
   "source": "2.3. Восстановление 'quantity' и 'price_per_unit',",
   "id": "fdc00c23f1377d9a"
  },
  {
   "metadata": {
    "ExecuteTime": {
     "end_time": "2025-08-12T16:17:38.231783Z",
     "start_time": "2025-08-12T16:17:38.186491Z"
    }
   },
   "cell_type": "code",
   "source": [
    "df_retail = df_retail.withColumn(\n",
    "    \"quantity\", F.when(\n",
    "        F.col(\"quantity\").isNull() & F.col(\"price_per_unit\").isNotNull() & F.col(\"total_spent\").isNull(),\n",
    "        F.round(F.col(\"total_spent\") / F.col(\"price_per_unit\"), 0)\n",
    "    ).otherwise(\n",
    "        F.col(\"quantity\")\n",
    "    )\n",
    ").withColumn(\n",
    "    \"quantity\",\n",
    "    F.col(\"quantity\").cast(IntegerType())\n",
    ")\n",
    "\n",
    "df_retail = df_retail.withColumn(\n",
    "    \"price_per_unit\", F.when(\n",
    "        F.col(\"price_per_unit\").isNull() & F.col(\"total_spent\").isNotNull() & F.col(\"quantity\").isNotNull(),\n",
    "        F.round(F.col(\"total_spent\") / F.col(\"quantity\"), 2)\n",
    "    ).otherwise(F.round(F.col(\"price_per_unit\"), 2))\n",
    ")"
   ],
   "id": "b07e136b6dd892cf",
   "outputs": [],
   "execution_count": 335
  },
  {
   "metadata": {},
   "cell_type": "markdown",
   "source": "2.4. Удаление оставшихся строк с пропусками",
   "id": "4fbda736c5881d6e"
  },
  {
   "metadata": {
    "ExecuteTime": {
     "end_time": "2025-08-12T16:17:38.361624Z",
     "start_time": "2025-08-12T16:17:38.236667Z"
    }
   },
   "cell_type": "code",
   "source": [
    "df_retail = df_retail.dropna(\n",
    "    how=\"any\",\n",
    "    subset=[\"category\", \"quantity\", \"total_spent\", \"price_per_unit\"]\n",
    ")\n",
    "df_retail.show()"
   ],
   "id": "c72de246c29c2c23",
   "outputs": [
    {
     "name": "stdout",
     "output_type": "stream",
     "text": [
      "+--------------+-----------+--------------------+------------+--------------+--------+-----------+--------------+--------+----------------+----------------+\n",
      "|transaction_id|customer_id|            category|        item|price_per_unit|quantity|total_spent|payment_method|location|transaction_date|discount_applied|\n",
      "+--------------+-----------+--------------------+------------+--------------+--------+-----------+--------------+--------+----------------+----------------+\n",
      "|   TXN_6867343|    CUST_09|          Patisserie| Item_10_PAT|          18.5|      10|      185.0|Digital Wallet|  Online|      2024-04-08|            true|\n",
      "|   TXN_3731986|    CUST_22|       Milk Products|Item_17_MILK|          29.0|       9|      261.0|Digital Wallet|  Online|      2023-07-23|            true|\n",
      "|   TXN_9303719|    CUST_02|            Butchers| Item_12_BUT|          21.5|       2|       43.0|   Credit Card|  Online|      2022-10-05|           false|\n",
      "|   TXN_9458126|    CUST_06|           Beverages| Item_16_BEV|          27.5|       9|      247.5|   Credit Card|  Online|      2022-05-07|            NULL|\n",
      "|   TXN_4575373|    CUST_05|                Food| Item_6_FOOD|          12.5|       7|       87.5|Digital Wallet|  Online|      2022-10-02|           false|\n",
      "|   TXN_3652209|    CUST_07|                Food| Item_1_FOOD|           5.0|       8|       40.0|   Credit Card|In-store|      2023-06-10|            true|\n",
      "|   TXN_9728486|    CUST_23|           Furniture| Item_16_FUR|          27.5|       1|       27.5|   Credit Card|In-store|      2023-04-26|           false|\n",
      "|   TXN_2722661|    CUST_25|            Butchers| Item_22_BUT|          36.5|       3|      109.5|          Cash|  Online|      2024-03-14|           false|\n",
      "|   TXN_8776416|    CUST_22|            Butchers|  Item_3_BUT|           8.0|       9|       72.0|          Cash|In-store|      2024-12-14|            true|\n",
      "|   TXN_5874772|    CUST_23|                Food| Item_2_FOOD|           6.5|       7|       45.5|          Cash|  Online|      2023-09-09|            true|\n",
      "|   TXN_4413070|    CUST_14|          Patisserie| Item_24_PAT|          39.5|       6|      237.0|Digital Wallet|In-store|      2022-05-20|           false|\n",
      "|   TXN_2490363|    CUST_09|       Milk Products|Item_16_MILK|          27.5|       2|       55.0|Digital Wallet|  Online|      2022-05-22|            NULL|\n",
      "|   TXN_7563311|    CUST_23|          Patisserie| Item_17_PAT|          29.0|       8|      232.0|          Cash|  Online|      2024-11-16|            true|\n",
      "|   TXN_4396807|    CUST_17|Electric househol...| Item_13_EHE|          23.0|       1|       23.0|Digital Wallet|In-store|      2022-02-07|           false|\n",
      "|   TXN_9939063|    CUST_14|           Beverages|  Item_7_BEV|          14.0|       9|      126.0|Digital Wallet|In-store|      2024-01-14|            NULL|\n",
      "|   TXN_6547964|    CUST_10|Electric househol...|  Item_4_EHE|           9.5|       7|       66.5|          Cash|In-store|      2022-08-15|            NULL|\n",
      "|   TXN_3314099|    CUST_04|                Food|Item_10_FOOD|          18.5|       1|       18.5|          Cash|  Online|      2023-09-30|           false|\n",
      "|   TXN_9980736|    CUST_13|           Furniture| Item_14_FUR|          24.5|       2|       49.0|          Cash|  Online|      2023-08-29|           false|\n",
      "|   TXN_9057609|    CUST_18|            Butchers| Item_20_BUT|          33.5|       4|      134.0|   Credit Card|In-store|      2022-03-16|            true|\n",
      "|   TXN_1599706|    CUST_14|           Furniture| Item_25_FUR|          41.0|      10|      410.0|   Credit Card|In-store|      2024-03-24|            true|\n",
      "+--------------+-----------+--------------------+------------+--------------+--------+-----------+--------------+--------+----------------+----------------+\n",
      "only showing top 20 rows\n",
      "\n"
     ]
    }
   ],
   "execution_count": 336
  },
  {
   "metadata": {},
   "cell_type": "markdown",
   "source": "## 3. Разведочный анализ данных",
   "id": "4c706a95b165af84"
  },
  {
   "metadata": {},
   "cell_type": "markdown",
   "source": "3.1. Самые популярные категории товаров",
   "id": "9611ba8e77ddf42f"
  },
  {
   "metadata": {
    "ExecuteTime": {
     "end_time": "2025-08-12T16:17:38.652420Z",
     "start_time": "2025-08-12T16:17:38.416736Z"
    }
   },
   "cell_type": "code",
   "source": [
    "# Общее количество проданных товаров по категориям\n",
    "total_category_df = df_retail.groupBy(F.col(\"category\")).agg(\n",
    "    F.sum(\"quantity\").alias(\"total_in_category\")\n",
    ")\n",
    "total_category_df = total_category_df.orderBy(F.desc(\"total_in_category\"))\n",
    "total_category_df.show()"
   ],
   "id": "94ffadffd1332027",
   "outputs": [
    {
     "name": "stdout",
     "output_type": "stream",
     "text": [
      "+--------------------+-----------------+\n",
      "|            category|total_in_category|\n",
      "+--------------------+-----------------+\n",
      "|           Furniture|             8083|\n",
      "|           Beverages|             7974|\n",
      "|                Food|             7925|\n",
      "|Electric househol...|             7897|\n",
      "|       Milk Products|             7889|\n",
      "|Computers and ele...|             7832|\n",
      "|            Butchers|             7774|\n",
      "|          Patisserie|             7515|\n",
      "+--------------------+-----------------+\n",
      "\n"
     ]
    }
   ],
   "execution_count": 337
  },
  {
   "metadata": {
    "ExecuteTime": {
     "end_time": "2025-08-12T16:17:38.791328Z",
     "start_time": "2025-08-12T16:17:38.673780Z"
    }
   },
   "cell_type": "code",
   "source": [
    "# ТОП-5 категорий по общему количеству проданных единиц\n",
    "total_category_df.show(5)"
   ],
   "id": "218dd6c41ac6c738",
   "outputs": [
    {
     "name": "stdout",
     "output_type": "stream",
     "text": [
      "+--------------------+-----------------+\n",
      "|            category|total_in_category|\n",
      "+--------------------+-----------------+\n",
      "|           Furniture|             8083|\n",
      "|           Beverages|             7974|\n",
      "|                Food|             7925|\n",
      "|Electric househol...|             7897|\n",
      "|       Milk Products|             7889|\n",
      "+--------------------+-----------------+\n",
      "only showing top 5 rows\n",
      "\n"
     ]
    }
   ],
   "execution_count": 338
  },
  {
   "metadata": {},
   "cell_type": "markdown",
   "source": "3.2. Анализ среднего чека",
   "id": "c1039c0295cc51df"
  },
  {
   "metadata": {
    "ExecuteTime": {
     "end_time": "2025-08-12T16:17:38.960416Z",
     "start_time": "2025-08-12T16:17:38.827630Z"
    }
   },
   "cell_type": "code",
   "source": [
    "# Среднее значение 'total_spent' для каждого метода оплаты\n",
    "avg_total_spent = df_retail.groupBy(\"payment_method\").agg(\n",
    "    F.round(F.avg(\"total_spent\"), 2).alias(\"avg_total_spent\")\n",
    ")\n",
    "avg_total_spent.orderBy(\"avg_total_spent\").show()"
   ],
   "id": "798108341a2c3697",
   "outputs": [
    {
     "name": "stdout",
     "output_type": "stream",
     "text": [
      "+--------------+---------------+\n",
      "|payment_method|avg_total_spent|\n",
      "+--------------+---------------+\n",
      "|Digital Wallet|         128.68|\n",
      "|   Credit Card|         129.03|\n",
      "|          Cash|         131.14|\n",
      "+--------------+---------------+\n",
      "\n"
     ]
    }
   ],
   "execution_count": 339
  },
  {
   "metadata": {
    "ExecuteTime": {
     "end_time": "2025-08-12T16:17:39.109285Z",
     "start_time": "2025-08-12T16:17:38.996926Z"
    }
   },
   "cell_type": "code",
   "source": [
    "# Среднее значение 'total_spent' для каждого места, где прошла оплата\n",
    "avg_location_total_spent = df_retail.groupBy(\"location\").agg(\n",
    "    F.round(F.avg(\"total_spent\"), 2).alias(\"avg_location_total_spent\")\n",
    ")\n",
    "avg_location_total_spent.orderBy(\"avg_location_total_spent\").show()"
   ],
   "id": "f27a9db6bce74a64",
   "outputs": [
    {
     "name": "stdout",
     "output_type": "stream",
     "text": [
      "+--------+------------------------+\n",
      "|location|avg_location_total_spent|\n",
      "+--------+------------------------+\n",
      "|In-store|                  128.82|\n",
      "|  Online|                  130.45|\n",
      "+--------+------------------------+\n",
      "\n"
     ]
    }
   ],
   "execution_count": 340
  },
  {
   "metadata": {},
   "cell_type": "markdown",
   "source": "## 4. Генерация признаков",
   "id": "142040432a8a5213"
  },
  {
   "metadata": {},
   "cell_type": "markdown",
   "source": "4.1. Временные признаки. Добавление новых столбцов: день недели и месяца",
   "id": "7d9202bde39a0868"
  },
  {
   "metadata": {
    "ExecuteTime": {
     "end_time": "2025-08-12T16:17:39.136292Z",
     "start_time": "2025-08-12T16:17:39.127598Z"
    }
   },
   "cell_type": "code",
   "source": [
    "df_retail = df_retail.withColumn(\n",
    "    \"day_of_week\", F.dayofweek(F.col(\"transaction_date\"))\n",
    ").withColumn(\n",
    "    \"transaction_month\", F.month(F.col(\"transaction_date\"))\n",
    ")"
   ],
   "id": "b3598f88c9870d06",
   "outputs": [],
   "execution_count": 341
  },
  {
   "metadata": {},
   "cell_type": "markdown",
   "source": "4.2. Продажи по дням недели",
   "id": "1ce43a95fae70b02"
  },
  {
   "metadata": {
    "ExecuteTime": {
     "end_time": "2025-08-12T16:17:39.293351Z",
     "start_time": "2025-08-12T16:17:39.157960Z"
    }
   },
   "cell_type": "code",
   "source": [
    "avg_total_day_of_week = df_retail.groupBy(\"day_of_week\").agg(\n",
    "    F.round(F.avg(F.col(\"total_spent\")), 2).alias(\"avg_day_of_week\")\n",
    ")\n",
    "avg_total_day_of_week.orderBy(\"day_of_week\").show()"
   ],
   "id": "d622ebfbf97c3eda",
   "outputs": [
    {
     "name": "stdout",
     "output_type": "stream",
     "text": [
      "+-----------+---------------+\n",
      "|day_of_week|avg_day_of_week|\n",
      "+-----------+---------------+\n",
      "|          1|         130.31|\n",
      "|          2|         126.08|\n",
      "|          3|         129.03|\n",
      "|          4|         126.62|\n",
      "|          5|         129.63|\n",
      "|          6|         134.52|\n",
      "|          7|         131.17|\n",
      "+-----------+---------------+\n",
      "\n"
     ]
    }
   ],
   "execution_count": 342
  },
  {
   "metadata": {},
   "cell_type": "markdown",
   "source": "4.3. Продажи по месяцам",
   "id": "50f0fa989140518c"
  },
  {
   "metadata": {
    "ExecuteTime": {
     "end_time": "2025-08-12T16:17:39.417303Z",
     "start_time": "2025-08-12T16:17:39.304038Z"
    }
   },
   "cell_type": "code",
   "source": [
    "avg_transaction_month = df_retail.groupBy(\"transaction_month\").agg(\n",
    "    F.round(F.avg(\"total_spent\"), 2).alias(\"avg_transaction_month\")\n",
    ")\n",
    "avg_transaction_month.orderBy(\"transaction_month\").show()"
   ],
   "id": "1f73eb83ef648e03",
   "outputs": [
    {
     "name": "stdout",
     "output_type": "stream",
     "text": [
      "+-----------------+---------------------+\n",
      "|transaction_month|avg_transaction_month|\n",
      "+-----------------+---------------------+\n",
      "|                1|               135.19|\n",
      "|                2|               129.76|\n",
      "|                3|               126.94|\n",
      "|                4|                132.0|\n",
      "|                5|               127.47|\n",
      "|                6|               131.32|\n",
      "|                7|               127.65|\n",
      "|                8|               122.77|\n",
      "|                9|               130.62|\n",
      "|               10|               128.05|\n",
      "|               11|               130.04|\n",
      "|               12|               132.32|\n",
      "+-----------------+---------------------+\n",
      "\n"
     ]
    }
   ],
   "execution_count": 343
  },
  {
   "metadata": {},
   "cell_type": "markdown",
   "source": "4.4. Признаки клиента",
   "id": "5ec2332a6111da40"
  },
  {
   "metadata": {
    "ExecuteTime": {
     "end_time": "2025-08-12T16:17:39.609394Z",
     "start_time": "2025-08-12T16:17:39.436790Z"
    }
   },
   "cell_type": "code",
   "source": [
    "customer_lifetime_value = df_retail.groupBy(\"customer_id\").agg(\n",
    "        (F.avg(F.col(\"total_spent\")) *\n",
    "        F.count(F.col(\"total_spent\")) *\n",
    "        (F.datediff(F.max(F.col(\"transaction_date\")), F.min(F.col(\"transaction_date\")))))\n",
    "        .alias(\"CVL\")\n",
    ")\n",
    "customer_lifetime_value.orderBy(F.desc(\"CVL\")).show(10)"
   ],
   "id": "35c1d19d2daaa2f1",
   "outputs": [
    {
     "name": "stdout",
     "output_type": "stream",
     "text": [
      "+-----------+-------------------+\n",
      "|customer_id|                CVL|\n",
      "+-----------+-------------------+\n",
      "|    CUST_24|7.190870399999999E7|\n",
      "|    CUST_05|       7.06880385E7|\n",
      "|    CUST_16|       7.01990905E7|\n",
      "|    CUST_08|6.976405500000001E7|\n",
      "|    CUST_13|       6.93800655E7|\n",
      "|    CUST_15|        6.7553444E7|\n",
      "|    CUST_10|         6.712866E7|\n",
      "|    CUST_23|        6.6190258E7|\n",
      "|    CUST_22|          6.60006E7|\n",
      "|    CUST_21|        6.5960734E7|\n",
      "+-----------+-------------------+\n",
      "only showing top 10 rows\n",
      "\n"
     ]
    }
   ],
   "execution_count": 344
  },
  {
   "metadata": {
    "ExecuteTime": {
     "end_time": "2025-08-12T16:17:40.176560Z",
     "start_time": "2025-08-12T16:17:39.642727Z"
    }
   },
   "cell_type": "code",
   "source": "spark.stop()",
   "id": "768a1e3dc35fd5bb",
   "outputs": [],
   "execution_count": 345
  }
 ],
 "metadata": {
  "kernelspec": {
   "display_name": "Python 3 (ipykernel)",
   "language": "python",
   "name": "python3"
  },
  "language_info": {
   "codemirror_mode": {
    "name": "ipython",
    "version": 2
   },
   "file_extension": ".py",
   "mimetype": "text/x-python",
   "name": "python",
   "nbconvert_exporter": "python",
   "pygments_lexer": "ipython2",
   "version": "2.7.6"
  }
 },
 "nbformat": 4,
 "nbformat_minor": 5
}
